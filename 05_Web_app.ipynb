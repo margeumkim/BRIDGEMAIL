{
 "cells": [
  {
   "cell_type": "markdown",
   "metadata": {},
   "source": [
    "# Creating a web-app\n",
    "\n",
    "* To demonstrate what sorts of information will be provided to users, I build a quick web app using streamlit below. \n",
    "* In this illustrative example, I take \"Andy Zipper\" as a user (i.e., sender) and give four different \"recipient\" options. "
   ]
  },
  {
   "cell_type": "markdown",
   "metadata": {},
   "source": [
    "## 1. Loading libraries"
   ]
  },
  {
   "cell_type": "code",
   "execution_count": 231,
   "metadata": {},
   "outputs": [],
   "source": [
    "import streamlit as st\n",
    "\n",
    "import numpy as np\n",
    "import pandas as pd\n",
    "import re, os\n",
    "from ast import literal_eval"
   ]
  },
  {
   "cell_type": "markdown",
   "metadata": {},
   "source": [
    "## 2. Setting a title"
   ]
  },
  {
   "cell_type": "code",
   "execution_count": 232,
   "metadata": {},
   "outputs": [
    {
     "data": {
      "text/plain": [
       "<streamlit.DeltaGenerator.DeltaGenerator at 0x243df8bd188>"
      ]
     },
     "execution_count": 232,
     "metadata": {},
     "output_type": "execute_result"
    }
   ],
   "source": [
    "st.title('-B-R-I-D-G-E-M-A-I-L-')"
   ]
  },
  {
   "cell_type": "markdown",
   "metadata": {},
   "source": [
    "## 3. Importing input data"
   ]
  },
  {
   "cell_type": "code",
   "execution_count": 432,
   "metadata": {},
   "outputs": [],
   "source": [
    "# import data\n",
    "#email_path = 'C:/Users/Margeum/Dropbox/DS projects/05. Email data/emails_in_csv'  # Place your directory path here\n",
    "#os.chdir(email_path)\n",
    "pw_path_length_df = pd.read_csv('./pw_path_length_df.csv')\n",
    "address_user_df = pd.read_csv('./address_user_df.csv')\n",
    "\n",
    "\n",
    "# We are using Andy Zipper's account as an example--her user names is \"zipper-a\"\n",
    "user_name = 'zipper-a'\n",
    "\n",
    "\n",
    "# Andy Zipper's stranger scores dataframe\n",
    "stranger_df = pw_path_length_df[pw_path_length_df['node_i']==\"andy.zipper@enron.com\"]\n",
    "stranger_df = stranger_df[['node_j', 's_path_length']]\n",
    "\n",
    "\n",
    "# Import the user's bag of words dataset\n",
    "user_bow_file_name = './' + user_name + '_nonoverlap.pkl'\n",
    "bow_df = pd.read_pickle(user_bow_file_name)\n",
    "\n",
    "\n",
    "# Loading Andy Zipper's \"To\" addresses list\n",
    "# Currnetly, I am displaying 4 recipients for the demonstration purpose\n",
    "# For the complete emailing list: #node_j_list = list(stranger_df['node_j']) \n",
    "node_j_list = [\"phillip.allen@enron.com\", \"jeffrey.hodge@enron.com\",  \n",
    "              \"larry.campbell@enron.com\", \"craig.dean@enron.com\"]    # Might add: \"kate.symes@enron.com\"\n",
    "empty_str = ''\n",
    "node_j_list.insert(0,empty_str)   # \"To\" addresses to be displayed in the app \n",
    "\n",
    "\n",
    "# Andy Zipper's and the 4 recipients' word-meaning dataframe\n",
    "node_i_dict_file = str(user_name) + '-meaning-example.pkl'\n",
    "node_i_dict = pd.read_pickle(node_i_dict_file)\n",
    "# Making a list of keywords (currently, 100 keywords are used)\n",
    "keywords_list = list(set(node_i_dict['keyword']))"
   ]
  },
  {
   "cell_type": "markdown",
   "metadata": {},
   "source": [
    "## 4. Taking user inputs and returning relevant information"
   ]
  },
  {
   "cell_type": "code",
   "execution_count": 413,
   "metadata": {},
   "outputs": [],
   "source": [
    "# Let the user choose a recipient from a dropdown menu\n",
    "option = st.selectbox(\n",
    "    \"To:\", node_j_list)\n",
    "\n",
    "# Add text area\n",
    "txt = st.text_area('Content:', height = 100)\n",
    "\n",
    "\n",
    "# Stranger detector section\n",
    "if option: \n",
    "   \n",
    "    st.header(\"Stranger detector\")\n",
    "    \n",
    "    stranger_score = int(stranger_df['s_path_length'][stranger_df['node_j']== option])\n",
    "    st.write('Your stranger score: ' + str(stranger_score) + ' out of 5') \n",
    "\n",
    "    \n",
    "    # Jargon detector section and meaning section for 'distant' pairs \n",
    "    if (stranger_score > 2):\n",
    "        \n",
    "        if txt: \n",
    "\n",
    "            st.header(\"Jargon detector\")\n",
    "\n",
    "            user_jargon = []\n",
    "            for item in list(re.split(r'[,.\\s]\\s*', txt)):\n",
    "                if item.lower() in list(bow_df[bow_df['node_j']==option]['non_overlap'])[0]: \n",
    "                    user_jargon.append(item) \n",
    "\n",
    "            jargon = user_jargon \n",
    "            if len(user_jargon) == 0: \n",
    "                st.write(\"Your email is jargon-free! Good job!\")\n",
    "            else:\n",
    "                st.write(\"Your recipient does not use the following word(s). You might want to provide definition(s) and/or context(s)\", list(jargon))\n",
    "\n",
    "\n",
    "            st.header(\"Context detector\")\n",
    "            \n",
    "            option_user_name = list(address_user_df[address_user_df['address'] == option]['user'])[0]\n",
    "\n",
    "            to_compare_meaning = []\n",
    "\n",
    "            for item in list(re.split(r'[,.?!\\s]\\s*', txt)):\n",
    "                if item in keywords_list: \n",
    "                    to_compare_meaning.append(item) \n",
    "\n",
    "                    \n",
    "            if len(to_compare_meaning) == 0: \n",
    "                st.write(\"We didn't find any words with potential meaning discrepancies.\")\n",
    "            else:\n",
    "                \n",
    "                st.write(\"You and your recipient might use the following words differently: \" + str(to_compare_meaning))\n",
    "                \n",
    "                for k in range(len(to_compare_meaning)): \n",
    "                    \n",
    "                    st.subheader(\"Potential gaps in using \\\"\"  + str(to_compare_meaning[k]) +\"\\\"\")    \n",
    "                    \n",
    "                    # Meanings in the user's space but not in the recipient's space (complement of the recipient meaning set)\n",
    "                    meaning_i_j = list((set(list(node_i_dict.loc[(node_i_dict['user']==user_name)\n",
    "                                              & (node_i_dict['keyword']==to_compare_meaning[k])][\"high_att_words\"])[0]) -  \n",
    "                                   set(list(node_i_dict.loc[(node_i_dict['user']==option_user_name) \n",
    "                                              & (node_i_dict['keyword']==to_compare_meaning[k])][\"high_att_words\"])[0])))\n",
    "                    \n",
    "                    # Meanings in the recipient's space but not in the user's space (complement of the user meaning set)\n",
    "                    meaning_j_i = list((set(list(node_i_dict.loc[(node_i_dict['user']==option_user_name) \n",
    "                                              & (node_i_dict['keyword']==to_compare_meaning[k])][\"high_att_words\"])[0]) -  \n",
    "                                        set(list(node_i_dict.loc[(node_i_dict['user']==user_name) \n",
    "                                              & (node_i_dict['keyword']==to_compare_meaning[k])][\"high_att_words\"])[0])))\n",
    "\n",
    "                    #Intersection of the two user's meaning spaces\n",
    "                    meaning_intersect = list((set(list(node_i_dict.loc[(node_i_dict['user']==option_user_name) \n",
    "                                              & (node_i_dict['keyword']==to_compare_meaning[k])][\"high_att_words\"])[0]) &  \n",
    "                                        set(list(node_i_dict.loc[(node_i_dict['user']==user_name) \n",
    "                                              & (node_i_dict['keyword']==to_compare_meaning[k])][\"high_att_words\"])[0])))\n",
    "\n",
    "\n",
    "#                    st.write(\"Below are the words highly associated with \" + str(to_compare_meaning[k]))\n",
    "\n",
    "#                    st.write(\"BOTH of you use it along with: \" + \n",
    "#                          str(meaning_intersect))\n",
    "\n",
    "                    st.write(\"You tend to use it with: \" + \n",
    "                          str(meaning_i_j))\n",
    "\n",
    "                    st.write(\"Your recipient tends to use with: \" + str(meaning_j_i))\n",
    "\n",
    "\n",
    "send = st.button('Send')\n",
    "if send:\n",
    "    st.write('Message sent')\n",
    "\n",
    "\n"
   ]
  }
 ],
 "metadata": {
  "kernelspec": {
   "display_name": "Python 3",
   "language": "python",
   "name": "python3"
  },
  "language_info": {
   "codemirror_mode": {
    "name": "ipython",
    "version": 3
   },
   "file_extension": ".py",
   "mimetype": "text/x-python",
   "name": "python",
   "nbconvert_exporter": "python",
   "pygments_lexer": "ipython3",
   "version": "3.7.6"
  }
 },
 "nbformat": 4,
 "nbformat_minor": 4
}
