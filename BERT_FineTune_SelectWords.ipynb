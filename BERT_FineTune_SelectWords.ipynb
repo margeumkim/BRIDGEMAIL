{
  "nbformat": 4,
  "nbformat_minor": 0,
  "metadata": {
    "colab": {
      "name": "BERT_FineTune_SelectWords.ipynb",
      "provenance": [],
      "collapsed_sections": [],
      "authorship_tag": "ABX9TyNI9eTyClnVmy2z2MN9ZXW2",
      "include_colab_link": true
    },
    "kernelspec": {
      "name": "python3",
      "display_name": "Python 3"
    },
    "accelerator": "GPU"
  },
  "cells": [
    {
      "cell_type": "markdown",
      "metadata": {
        "id": "view-in-github",
        "colab_type": "text"
      },
      "source": [
        "<a href=\"https://colab.research.google.com/github/margeumkim/BRIDGEMAIL/blob/master/BERT_FineTune_SelectWords.ipynb\" target=\"_parent\"><img src=\"https://colab.research.google.com/assets/colab-badge.svg\" alt=\"Open In Colab\"/></a>"
      ]
    },
    {
      "cell_type": "markdown",
      "metadata": {
        "id": "RM8wXsiM4jiH",
        "colab_type": "text"
      },
      "source": [
        "# BERT Fine-Tuning Tutorial with PyTorch\n",
        "Ref: Chris McCormick and Nick Ryan's notebook"
      ]
    },
    {
      "cell_type": "markdown",
      "metadata": {
        "id": "r53A2j5p4rft",
        "colab_type": "text"
      },
      "source": [
        "## 1.1. Using Colab GPU for Training\n",
        "\n",
        "Google Colab offers free GPUs and TPUs! Since we'll be training a large neural network it's best to take advantage of this (in this case we'll attach a GPU), otherwise training will take a very long time.\n",
        "\n",
        "A GPU can be added by going to the menu and selecting:\n",
        "\n",
        "Edit 🡒 Notebook Settings 🡒 Hardware accelerator 🡒 (GPU)\n",
        "\n",
        "Then run the following cell to confirm that the GPU is detected."
      ]
    },
    {
      "cell_type": "code",
      "metadata": {
        "id": "mHouifG_035d",
        "colab_type": "code",
        "colab": {
          "base_uri": "https://localhost:8080/",
          "height": 34
        },
        "outputId": "00415dfb-8fe7-4dca-d0c2-14d54c588532"
      },
      "source": [
        "import tensorflow as tf\n",
        "\n",
        "# Get the GPU device name.\n",
        "device_name = tf.test.gpu_device_name()\n",
        "\n",
        "# The device name should look like the following:\n",
        "if device_name == '/device:GPU:0':\n",
        "    print('Found GPU at: {}'.format(device_name))\n",
        "else:\n",
        "    raise SystemError('GPU device not found')"
      ],
      "execution_count": 1,
      "outputs": [
        {
          "output_type": "stream",
          "text": [
            "Found GPU at: /device:GPU:0\n"
          ],
          "name": "stdout"
        }
      ]
    },
    {
      "cell_type": "markdown",
      "metadata": {
        "id": "woonkBS05D-a",
        "colab_type": "text"
      },
      "source": [
        "In order for torch to use the GPU, we need to identify and specify the GPU as the device. Later, in our training loop, we will load data onto the device."
      ]
    },
    {
      "cell_type": "code",
      "metadata": {
        "id": "LzsJxmUB5FT4",
        "colab_type": "code",
        "colab": {
          "base_uri": "https://localhost:8080/",
          "height": 51
        },
        "outputId": "c4896040-a5a6-4549-898e-19e0014445e1"
      },
      "source": [
        "import torch\n",
        "\n",
        "# If there's a GPU available...\n",
        "if torch.cuda.is_available():    \n",
        "\n",
        "    # Tell PyTorch to use the GPU.    \n",
        "    device = torch.device(\"cuda\")\n",
        "\n",
        "    print('There are %d GPU(s) available.' % torch.cuda.device_count())\n",
        "\n",
        "    print('We will use the GPU:', torch.cuda.get_device_name(0))\n",
        "\n",
        "# If not...\n",
        "else:\n",
        "    print('No GPU available, using the CPU instead.')\n",
        "    device = torch.device(\"cpu\")"
      ],
      "execution_count": 2,
      "outputs": [
        {
          "output_type": "stream",
          "text": [
            "There are 1 GPU(s) available.\n",
            "We will use the GPU: Tesla P100-PCIE-16GB\n"
          ],
          "name": "stdout"
        }
      ]
    },
    {
      "cell_type": "markdown",
      "metadata": {
        "id": "uAI2rmOB5KJ2",
        "colab_type": "text"
      },
      "source": [
        "## 1.2. Installing the Hugging Face Library\n",
        "\n",
        "Next, let's install the transformers package from Hugging Face which will give us a pytorch interface for working with BERT. (This library contains interfaces for other pretrained language models like OpenAI's GPT and GPT-2.) We've selected the pytorch interface because it strikes a nice balance between the high-level APIs (which are easy to use but don't provide insight into how things work) and tensorflow code (which contains lots of details but often sidetracks us into lessons about tensorflow, when the purpose here is BERT!).\n",
        "\n",
        "At the moment, the Hugging Face library seems to be the most widely accepted and powerful pytorch interface for working with BERT. In addition to supporting a variety of different pre-trained transformer models, the library also includes pre-built modifications of these models suited to your specific task. For example, in this tutorial we will use BertForSequenceClassification.\n",
        "\n",
        "The library also includes task-specific classes for token classification, question answering, next sentence prediciton, etc. Using these pre-built classes simplifies the process of modifying BERT for your purposes."
      ]
    },
    {
      "cell_type": "code",
      "metadata": {
        "id": "YD5w4uN75MW1",
        "colab_type": "code",
        "colab": {
          "base_uri": "https://localhost:8080/",
          "height": 595
        },
        "outputId": "0e93435f-ac95-4889-fbc1-d145cc40e4e4"
      },
      "source": [
        "!pip install transformers"
      ],
      "execution_count": 3,
      "outputs": [
        {
          "output_type": "stream",
          "text": [
            "Collecting transformers\n",
            "\u001b[?25l  Downloading https://files.pythonhosted.org/packages/48/35/ad2c5b1b8f99feaaf9d7cdadaeef261f098c6e1a6a2935d4d07662a6b780/transformers-2.11.0-py3-none-any.whl (674kB)\n",
            "\r\u001b[K     |▌                               | 10kB 23.6MB/s eta 0:00:01\r\u001b[K     |█                               | 20kB 5.9MB/s eta 0:00:01\r\u001b[K     |█▌                              | 30kB 7.3MB/s eta 0:00:01\r\u001b[K     |██                              | 40kB 7.3MB/s eta 0:00:01\r\u001b[K     |██▍                             | 51kB 6.5MB/s eta 0:00:01\r\u001b[K     |███                             | 61kB 7.1MB/s eta 0:00:01\r\u001b[K     |███▍                            | 71kB 7.6MB/s eta 0:00:01\r\u001b[K     |███▉                            | 81kB 8.0MB/s eta 0:00:01\r\u001b[K     |████▍                           | 92kB 7.5MB/s eta 0:00:01\r\u001b[K     |████▉                           | 102kB 7.9MB/s eta 0:00:01\r\u001b[K     |█████▍                          | 112kB 7.9MB/s eta 0:00:01\r\u001b[K     |█████▉                          | 122kB 7.9MB/s eta 0:00:01\r\u001b[K     |██████▎                         | 133kB 7.9MB/s eta 0:00:01\r\u001b[K     |██████▉                         | 143kB 7.9MB/s eta 0:00:01\r\u001b[K     |███████▎                        | 153kB 7.9MB/s eta 0:00:01\r\u001b[K     |███████▊                        | 163kB 7.9MB/s eta 0:00:01\r\u001b[K     |████████▎                       | 174kB 7.9MB/s eta 0:00:01\r\u001b[K     |████████▊                       | 184kB 7.9MB/s eta 0:00:01\r\u001b[K     |█████████▎                      | 194kB 7.9MB/s eta 0:00:01\r\u001b[K     |█████████▊                      | 204kB 7.9MB/s eta 0:00:01\r\u001b[K     |██████████▏                     | 215kB 7.9MB/s eta 0:00:01\r\u001b[K     |██████████▊                     | 225kB 7.9MB/s eta 0:00:01\r\u001b[K     |███████████▏                    | 235kB 7.9MB/s eta 0:00:01\r\u001b[K     |███████████▋                    | 245kB 7.9MB/s eta 0:00:01\r\u001b[K     |████████████▏                   | 256kB 7.9MB/s eta 0:00:01\r\u001b[K     |████████████▋                   | 266kB 7.9MB/s eta 0:00:01\r\u001b[K     |█████████████                   | 276kB 7.9MB/s eta 0:00:01\r\u001b[K     |█████████████▋                  | 286kB 7.9MB/s eta 0:00:01\r\u001b[K     |██████████████                  | 296kB 7.9MB/s eta 0:00:01\r\u001b[K     |██████████████▋                 | 307kB 7.9MB/s eta 0:00:01\r\u001b[K     |███████████████                 | 317kB 7.9MB/s eta 0:00:01\r\u001b[K     |███████████████▌                | 327kB 7.9MB/s eta 0:00:01\r\u001b[K     |████████████████                | 337kB 7.9MB/s eta 0:00:01\r\u001b[K     |████████████████▌               | 348kB 7.9MB/s eta 0:00:01\r\u001b[K     |█████████████████               | 358kB 7.9MB/s eta 0:00:01\r\u001b[K     |█████████████████▌              | 368kB 7.9MB/s eta 0:00:01\r\u001b[K     |██████████████████              | 378kB 7.9MB/s eta 0:00:01\r\u001b[K     |██████████████████▌             | 389kB 7.9MB/s eta 0:00:01\r\u001b[K     |███████████████████             | 399kB 7.9MB/s eta 0:00:01\r\u001b[K     |███████████████████▍            | 409kB 7.9MB/s eta 0:00:01\r\u001b[K     |████████████████████            | 419kB 7.9MB/s eta 0:00:01\r\u001b[K     |████████████████████▍           | 430kB 7.9MB/s eta 0:00:01\r\u001b[K     |████████████████████▉           | 440kB 7.9MB/s eta 0:00:01\r\u001b[K     |█████████████████████▍          | 450kB 7.9MB/s eta 0:00:01\r\u001b[K     |█████████████████████▉          | 460kB 7.9MB/s eta 0:00:01\r\u001b[K     |██████████████████████▍         | 471kB 7.9MB/s eta 0:00:01\r\u001b[K     |██████████████████████▉         | 481kB 7.9MB/s eta 0:00:01\r\u001b[K     |███████████████████████▎        | 491kB 7.9MB/s eta 0:00:01\r\u001b[K     |███████████████████████▉        | 501kB 7.9MB/s eta 0:00:01\r\u001b[K     |████████████████████████▎       | 512kB 7.9MB/s eta 0:00:01\r\u001b[K     |████████████████████████▊       | 522kB 7.9MB/s eta 0:00:01\r\u001b[K     |█████████████████████████▎      | 532kB 7.9MB/s eta 0:00:01\r\u001b[K     |█████████████████████████▊      | 542kB 7.9MB/s eta 0:00:01\r\u001b[K     |██████████████████████████▏     | 552kB 7.9MB/s eta 0:00:01\r\u001b[K     |██████████████████████████▊     | 563kB 7.9MB/s eta 0:00:01\r\u001b[K     |███████████████████████████▏    | 573kB 7.9MB/s eta 0:00:01\r\u001b[K     |███████████████████████████▊    | 583kB 7.9MB/s eta 0:00:01\r\u001b[K     |████████████████████████████▏   | 593kB 7.9MB/s eta 0:00:01\r\u001b[K     |████████████████████████████▋   | 604kB 7.9MB/s eta 0:00:01\r\u001b[K     |█████████████████████████████▏  | 614kB 7.9MB/s eta 0:00:01\r\u001b[K     |█████████████████████████████▋  | 624kB 7.9MB/s eta 0:00:01\r\u001b[K     |██████████████████████████████  | 634kB 7.9MB/s eta 0:00:01\r\u001b[K     |██████████████████████████████▋ | 645kB 7.9MB/s eta 0:00:01\r\u001b[K     |███████████████████████████████ | 655kB 7.9MB/s eta 0:00:01\r\u001b[K     |███████████████████████████████▋| 665kB 7.9MB/s eta 0:00:01\r\u001b[K     |████████████████████████████████| 675kB 7.9MB/s \n",
            "\u001b[?25hRequirement already satisfied: numpy in /usr/local/lib/python3.6/dist-packages (from transformers) (1.18.5)\n",
            "Collecting sentencepiece\n",
            "\u001b[?25l  Downloading https://files.pythonhosted.org/packages/d4/a4/d0a884c4300004a78cca907a6ff9a5e9fe4f090f5d95ab341c53d28cbc58/sentencepiece-0.1.91-cp36-cp36m-manylinux1_x86_64.whl (1.1MB)\n",
            "\u001b[K     |████████████████████████████████| 1.1MB 22.3MB/s \n",
            "\u001b[?25hRequirement already satisfied: tqdm>=4.27 in /usr/local/lib/python3.6/dist-packages (from transformers) (4.41.1)\n",
            "Requirement already satisfied: filelock in /usr/local/lib/python3.6/dist-packages (from transformers) (3.0.12)\n",
            "Collecting sacremoses\n",
            "\u001b[?25l  Downloading https://files.pythonhosted.org/packages/7d/34/09d19aff26edcc8eb2a01bed8e98f13a1537005d31e95233fd48216eed10/sacremoses-0.0.43.tar.gz (883kB)\n",
            "\u001b[K     |████████████████████████████████| 890kB 49.4MB/s \n",
            "\u001b[?25hRequirement already satisfied: requests in /usr/local/lib/python3.6/dist-packages (from transformers) (2.23.0)\n",
            "Requirement already satisfied: regex!=2019.12.17 in /usr/local/lib/python3.6/dist-packages (from transformers) (2019.12.20)\n",
            "Requirement already satisfied: dataclasses; python_version < \"3.7\" in /usr/local/lib/python3.6/dist-packages (from transformers) (0.7)\n",
            "Collecting tokenizers==0.7.0\n",
            "\u001b[?25l  Downloading https://files.pythonhosted.org/packages/14/e5/a26eb4716523808bb0a799fcfdceb6ebf77a18169d9591b2f46a9adb87d9/tokenizers-0.7.0-cp36-cp36m-manylinux1_x86_64.whl (3.8MB)\n",
            "\u001b[K     |████████████████████████████████| 3.8MB 19.0MB/s \n",
            "\u001b[?25hRequirement already satisfied: packaging in /usr/local/lib/python3.6/dist-packages (from transformers) (20.4)\n",
            "Requirement already satisfied: six in /usr/local/lib/python3.6/dist-packages (from sacremoses->transformers) (1.12.0)\n",
            "Requirement already satisfied: click in /usr/local/lib/python3.6/dist-packages (from sacremoses->transformers) (7.1.2)\n",
            "Requirement already satisfied: joblib in /usr/local/lib/python3.6/dist-packages (from sacremoses->transformers) (0.15.1)\n",
            "Requirement already satisfied: urllib3!=1.25.0,!=1.25.1,<1.26,>=1.21.1 in /usr/local/lib/python3.6/dist-packages (from requests->transformers) (1.24.3)\n",
            "Requirement already satisfied: certifi>=2017.4.17 in /usr/local/lib/python3.6/dist-packages (from requests->transformers) (2020.4.5.2)\n",
            "Requirement already satisfied: chardet<4,>=3.0.2 in /usr/local/lib/python3.6/dist-packages (from requests->transformers) (3.0.4)\n",
            "Requirement already satisfied: idna<3,>=2.5 in /usr/local/lib/python3.6/dist-packages (from requests->transformers) (2.9)\n",
            "Requirement already satisfied: pyparsing>=2.0.2 in /usr/local/lib/python3.6/dist-packages (from packaging->transformers) (2.4.7)\n",
            "Building wheels for collected packages: sacremoses\n",
            "  Building wheel for sacremoses (setup.py) ... \u001b[?25l\u001b[?25hdone\n",
            "  Created wheel for sacremoses: filename=sacremoses-0.0.43-cp36-none-any.whl size=893260 sha256=7333a79390f09c4da24531e4ebf4fefb7e1398add8c74c574839f696373a09cc\n",
            "  Stored in directory: /root/.cache/pip/wheels/29/3c/fd/7ce5c3f0666dab31a50123635e6fb5e19ceb42ce38d4e58f45\n",
            "Successfully built sacremoses\n",
            "Installing collected packages: sentencepiece, sacremoses, tokenizers, transformers\n",
            "Successfully installed sacremoses-0.0.43 sentencepiece-0.1.91 tokenizers-0.7.0 transformers-2.11.0\n"
          ],
          "name": "stdout"
        }
      ]
    },
    {
      "cell_type": "markdown",
      "metadata": {
        "id": "x3WPNzYF531p",
        "colab_type": "text"
      },
      "source": [
        "The code in this notebook is actually a simplified version of the run_glue.py example script from huggingface.\n",
        "\n",
        "run_glue.py is a helpful utility which allows you to pick which GLUE benchmark task you want to run on, and which pre-trained model you want to use (you can see the list of possible models here). It also supports using either the CPU, a single GPU, or multiple GPUs. It even supports using 16-bit precision if you want further speed up.\n",
        "\n",
        "Unfortunately, all of this configurability comes at the cost of readability. In this Notebook, we've simplified the code greatly and added plenty of comments to make it clear what's going on."
      ]
    },
    {
      "cell_type": "markdown",
      "metadata": {
        "id": "Wzkb8h4K6CYT",
        "colab_type": "text"
      },
      "source": [
        "# 2. Loading CoLA Dataset\n",
        "\n",
        "We'll use [The Corpus of Linguistic Acceptability (CoLA) ](https://nyu-mll.github.io/CoLA/) dataset for single sentence classification. It's a set of sentences labeled as grammatically correct or incorrect. It was first published in May of 2018, and is one of the tests included in the \"GLUE Benchmark\" on which models like BERT are competing."
      ]
    },
    {
      "cell_type": "markdown",
      "metadata": {
        "id": "TliwVW-E6Fat",
        "colab_type": "text"
      },
      "source": [
        "## 2.1. Download & Extract\n",
        "Import the datasets"
      ]
    },
    {
      "cell_type": "code",
      "metadata": {
        "id": "9smiD8qJ6Ht1",
        "colab_type": "code",
        "colab": {
          "base_uri": "https://localhost:8080/",
          "height": 122
        },
        "outputId": "b70fca59-0689-4a7d-9658-04fce3dcf732"
      },
      "source": [
        " from google.colab import drive\n",
        "drive.mount('/content/drive')"
      ],
      "execution_count": 4,
      "outputs": [
        {
          "output_type": "stream",
          "text": [
            "Go to this URL in a browser: https://accounts.google.com/o/oauth2/auth?client_id=947318989803-6bn6qk8qdgf4n4g3pfee6491hc0brc4i.apps.googleusercontent.com&redirect_uri=urn%3aietf%3awg%3aoauth%3a2.0%3aoob&response_type=code&scope=email%20https%3a%2f%2fwww.googleapis.com%2fauth%2fdocs.test%20https%3a%2f%2fwww.googleapis.com%2fauth%2fdrive%20https%3a%2f%2fwww.googleapis.com%2fauth%2fdrive.photos.readonly%20https%3a%2f%2fwww.googleapis.com%2fauth%2fpeopleapi.readonly\n",
            "\n",
            "Enter your authorization code:\n",
            "··········\n",
            "Mounted at /content/drive\n"
          ],
          "name": "stdout"
        }
      ]
    },
    {
      "cell_type": "code",
      "metadata": {
        "id": "EgLYtjlv98kY",
        "colab_type": "code",
        "colab": {
          "base_uri": "https://localhost:8080/",
          "height": 51
        },
        "outputId": "de6aefb3-b444-4f83-d18a-7e28e8ac0a4c"
      },
      "source": [
        "import pandas as pd\n",
        "\n",
        "\n",
        "# Import the training data\n",
        "path = \"/content/drive/My Drive/data/train_set_6733.csv\"\n",
        "train_df = pd.read_csv(path)\n",
        "\n",
        "# Report the number of sentences.\n",
        "print('Number of training messages: {:,}\\n'.format(train_df.shape[0]))\n",
        "\n",
        "\n",
        "# Dataset is now stored in a Pandas Dataframe"
      ],
      "execution_count": 5,
      "outputs": [
        {
          "output_type": "stream",
          "text": [
            "Number of training messages: 586\n",
            "\n"
          ],
          "name": "stdout"
        }
      ]
    },
    {
      "cell_type": "code",
      "metadata": {
        "id": "Z6NAcHqCCp-t",
        "colab_type": "code",
        "colab": {}
      },
      "source": [
        "# Import the training data\n",
        "path_dict = \"/content/drive/My Drive/data/dict_topic_for_bert.csv\"\n",
        "dict_for_bert = pd.read_csv(path_dict)"
      ],
      "execution_count": 6,
      "outputs": []
    },
    {
      "cell_type": "code",
      "metadata": {
        "id": "QH5fajRd-Vz9",
        "colab_type": "code",
        "colab": {
          "base_uri": "https://localhost:8080/",
          "height": 54
        },
        "outputId": "c7a79c8c-356c-4fe0-e2b9-249f173c2656"
      },
      "source": [
        "train_df.iloc[10][\"content\"]\n",
        "# . or >  split --> each sentence == join with the primary category\n",
        "# . or >  split --> each sentence == join with the 3.1 \n",
        "# . or >  split --> each sentence == join with the 3.6\n",
        "# . or >  split --> each sentence == join with the 3.2"
      ],
      "execution_count": 7,
      "outputs": [
        {
          "output_type": "execute_result",
          "data": {
            "text/plain": [
              "'Just a \"heads up\" ... Ken may get a call from Gov Gilmore regarding the Republican Governors\\' Association. Below are Sue Landwehr\\'s recommendations (with which I concur). Let me know if he calls and let us know if you need any additional information. ----- Forwarded by Steven J Kean/NA/Enron on 10/04/2000 09:20 AM ----- Richard Shapiro@ENRON 10/04/2000 07:17 AM To: Susan M Landwehr/HOU/EES@EES cc: Elizabeth Linnell/NA/Enron@Enron@EES, Steven J Kean/NA/Enron@Enron@EES Subject: Re: RGA request I agree w/ your recommendations. Susan M Landwehr@EES 10/03/2000 09:50 PM To: Richard Shapiro/NA/Enron@Enron cc: Elizabeth Linnell/NA/Enron@Enron, Steven J Kean/NA/Enron@Enron Subject: RGA request Rick--you may have seen a recent letter from Gov Jim Gilmore and the RGA requesting that we make an additional contribution in the next few weeks to the RGA for their efforts on the upcoming November elections. They list a fundraising goal of $1,660,000 (just a bit aggressive!) If we are not able to make an additional contribution, he asks that we renew our 2001 annual membership of $40,000 now instead of in January of 2001. If we do anything, my recommendation would be to cut a check now for our annual membership (the downside of doing that, of course, is that they will hit us a number of times in 2001 for incremental contributions to specific events/causes). I bring this to your attention for two reasons-one is that if I know Governor Gilmore, he will probably make a call directly to Ken Lay and you and Steve may want to have an answer available if Mr. Lay gets the call. Secondly, what are your thoughts on my response to RGA? My preference would be to not commit to any additional dollars, with a fall back that if Gilmore does call Lay and he wants to respond positively, we then commit to renewing our membership early. I think you are pretty busy over the next few days--please respond as your schedule allows. THanks.'"
            ]
          },
          "metadata": {
            "tags": []
          },
          "execution_count": 7
        }
      ]
    },
    {
      "cell_type": "code",
      "metadata": {
        "id": "p7aX9gfN_2BL",
        "colab_type": "code",
        "colab": {
          "base_uri": "https://localhost:8080/",
          "height": 170
        },
        "outputId": "baff0bcb-62fd-44cf-fe9e-a8a8cc3d7004"
      },
      "source": [
        "train_df['any_3_6'].describe()"
      ],
      "execution_count": 51,
      "outputs": [
        {
          "output_type": "execute_result",
          "data": {
            "text/plain": [
              "count    586.000000\n",
              "mean       0.293515\n",
              "std        0.455762\n",
              "min        0.000000\n",
              "25%        0.000000\n",
              "50%        0.000000\n",
              "75%        1.000000\n",
              "max        1.000000\n",
              "Name: any_3_6, dtype: float64"
            ]
          },
          "metadata": {
            "tags": []
          },
          "execution_count": 51
        }
      ]
    },
    {
      "cell_type": "code",
      "metadata": {
        "id": "t9Jhj-Ph-8SB",
        "colab_type": "code",
        "colab": {
          "base_uri": "https://localhost:8080/",
          "height": 85
        },
        "outputId": "446403dd-25d5-4c95-802b-e9cd50d18b34"
      },
      "source": [
        "train_randselect = []\n",
        "train_t31 = []\n",
        "train_t36 = []\n",
        "train_t32 = []\n",
        "\n",
        "for index, row in train_df.iterrows():\n",
        "    if type(row['content']) ==  str:\n",
        "      for j in range(len(row['content'].split('.'))):\n",
        "        train_randselect.append([row['primary_cat'], row['content'].split('.')[j]])\n",
        "        train_t31.append([row['any_3_1'], row['content'].split('.')[j]])\n",
        "        train_t36.append([row['any_3_6'], row['content'].split('.')[j]])\n",
        "        train_t32.append([row['any_3_2'], row['content'].split('.')[j]])\n",
        "    else:\n",
        "      print (index)\n",
        "      pass\n"
      ],
      "execution_count": 9,
      "outputs": [
        {
          "output_type": "stream",
          "text": [
            "1\n",
            "54\n",
            "83\n",
            "288\n"
          ],
          "name": "stdout"
        }
      ]
    },
    {
      "cell_type": "code",
      "metadata": {
        "id": "OI-bRv4wAay_",
        "colab_type": "code",
        "colab": {}
      },
      "source": [
        "train_t36_df = pd.DataFrame(train_t36, columns = ['Label', 'Sentence'])   # 34% yes  /// 32866 sentences\n",
        "train_t31_df = pd.DataFrame(train_t31, columns = ['Label', 'Sentence'])   # 19% yes\n",
        "train_t32_df = pd.DataFrame(train_t32, columns = ['Label', 'Sentence'])   # 14% yes"
      ],
      "execution_count": 10,
      "outputs": []
    },
    {
      "cell_type": "code",
      "metadata": {
        "id": "N-jdSbzTCQCv",
        "colab_type": "code",
        "colab": {
          "base_uri": "https://localhost:8080/",
          "height": 221
        },
        "outputId": "7ecaf579-9eba-452f-b1da-b75b2afac071"
      },
      "source": [
        "term_list = dict_for_bert['Term']\n",
        "term_list"
      ],
      "execution_count": 11,
      "outputs": [
        {
          "output_type": "execute_result",
          "data": {
            "text/plain": [
              "0              lower\n",
              "1             member\n",
              "2              taken\n",
              "3        spokeswoman\n",
              "4             summer\n",
              "            ...     \n",
              "1494           light\n",
              "1495        research\n",
              "1496            love\n",
              "1497    circumstance\n",
              "1498           phone\n",
              "Name: Term, Length: 1499, dtype: object"
            ]
          },
          "metadata": {
            "tags": []
          },
          "execution_count": 11
        }
      ]
    },
    {
      "cell_type": "code",
      "metadata": {
        "id": "QfkWqPvsDIrj",
        "colab_type": "code",
        "colab": {}
      },
      "source": [
        "train_t36_bool_list = []\n",
        "\n",
        "for index, row in train_t36_df.iterrows():\n",
        "    if type(row['Sentence']) == str:\n",
        "        my_bool = any(item in list(row['Sentence'].split(' ')) for item in list(dict_for_bert['Term'])) \n",
        "        #print (my_bool)\n",
        "        train_t36_bool_list.append(my_bool)\n",
        "\n",
        "train_t36_df['term_bool'] = train_t36_bool_list"
      ],
      "execution_count": 43,
      "outputs": []
    },
    {
      "cell_type": "code",
      "metadata": {
        "id": "puAJOm2gRlB4",
        "colab_type": "code",
        "colab": {
          "base_uri": "https://localhost:8080/",
          "height": 102
        },
        "outputId": "690ee81d-20bd-4903-ae5e-1b66558a9ff8"
      },
      "source": [
        "i = 1\n",
        "train_t36_df.iloc[i][\"term_bool\"] = any(item in list(train_t36_df.iloc[i]['Sentence'].split(' ')) for item in list(dict_for_bert['Term'])) "
      ],
      "execution_count": 35,
      "outputs": [
        {
          "output_type": "stream",
          "text": [
            "/usr/local/lib/python3.6/dist-packages/ipykernel_launcher.py:2: SettingWithCopyWarning: \n",
            "A value is trying to be set on a copy of a slice from a DataFrame\n",
            "\n",
            "See the caveats in the documentation: https://pandas.pydata.org/pandas-docs/stable/user_guide/indexing.html#returning-a-view-versus-a-copy\n",
            "  \n"
          ],
          "name": "stderr"
        }
      ]
    },
    {
      "cell_type": "code",
      "metadata": {
        "id": "Qw_zVvetR6cP",
        "colab_type": "code",
        "colab": {
          "base_uri": "https://localhost:8080/",
          "height": 102
        },
        "outputId": "2c27df1a-2a84-4a5b-d7c8-425030fcf350"
      },
      "source": [
        "train_t36_df['term_bool'].describe()"
      ],
      "execution_count": 48,
      "outputs": [
        {
          "output_type": "execute_result",
          "data": {
            "text/plain": [
              "count     32866\n",
              "unique        2\n",
              "top        True\n",
              "freq      25048\n",
              "Name: term_bool, dtype: object"
            ]
          },
          "metadata": {
            "tags": []
          },
          "execution_count": 48
        }
      ]
    },
    {
      "cell_type": "code",
      "metadata": {
        "id": "1MOAjd5RqUiI",
        "colab_type": "code",
        "colab": {
          "base_uri": "https://localhost:8080/",
          "height": 34
        },
        "outputId": "131482be-c2e3-4da1-eef1-843ad534d315"
      },
      "source": [
        "train_t36_df_red = train_t36_df[train_t36_df['term_bool'] == True]\n",
        "len(train_t36_df_red)"
      ],
      "execution_count": 49,
      "outputs": [
        {
          "output_type": "execute_result",
          "data": {
            "text/plain": [
              "25048"
            ]
          },
          "metadata": {
            "tags": []
          },
          "execution_count": 49
        }
      ]
    },
    {
      "cell_type": "code",
      "metadata": {
        "id": "ir-MAnLLrnCM",
        "colab_type": "code",
        "colab": {}
      },
      "source": [
        "train_t36_df_red.to_csv('train_t36_ready_complete.csv', index=True)\n",
        "!cp train_t36_ready_complete.csv \"drive/My Drive/\""
      ],
      "execution_count": 56,
      "outputs": []
    },
    {
      "cell_type": "code",
      "metadata": {
        "id": "xdS8KSc9q5Rm",
        "colab_type": "code",
        "colab": {}
      },
      "source": [
        "train_t36_df_1000 = train_t36_df_red.sample(1000)"
      ],
      "execution_count": 53,
      "outputs": []
    },
    {
      "cell_type": "code",
      "metadata": {
        "id": "XBXkUr0erRGp",
        "colab_type": "code",
        "colab": {
          "base_uri": "https://localhost:8080/",
          "height": 170
        },
        "outputId": "295e3c39-99ec-4f53-8bdc-a7c37d53f0f2"
      },
      "source": [
        "train_t36_df_1000['Label'].describe()  # 33%"
      ],
      "execution_count": 54,
      "outputs": [
        {
          "output_type": "execute_result",
          "data": {
            "text/plain": [
              "count    1000.000000\n",
              "mean        0.333000\n",
              "std         0.471522\n",
              "min         0.000000\n",
              "25%         0.000000\n",
              "50%         0.000000\n",
              "75%         1.000000\n",
              "max         1.000000\n",
              "Name: Label, dtype: float64"
            ]
          },
          "metadata": {
            "tags": []
          },
          "execution_count": 54
        }
      ]
    }
  ]
}