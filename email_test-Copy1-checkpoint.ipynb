{
 "cells": [
  {
   "cell_type": "markdown",
   "metadata": {},
   "source": [
    "# Criss-Cross: Cross-functional communication aid    \n",
    "**Margeum Kim**\n",
    "\n",
    "## Project description\n",
    "* Employees are known to have difficulties in cross-functional / cross-department communications\n",
    "* In this project, I am to:\n",
    "* 1) define an employee's communication communities (using 2-degrees of separation)\n",
    "* 2) qualitatively validate the communities with functional divisions\n",
    "* 3) quantitatively validate the communities by comparing the word-meaning associations\n",
    "* 4) and build an web app that: \n",
    "    *    a) flags whether you are in the same communities with your receipient\n",
    "    *    b) if in different communities, goes through your email body and flag whether you are using \n",
    "        *    a jargon(s)(*frequency and uniqueness*) and/or \n",
    "        *    a word(s) with different implications (*word co-occurance -- perhaps using TFIDF*)\n",
    "        \n",
    "        \n",
    "    \n",
    " * I am using Enron emails dataset, which contains ~500,000 emails of 150 Enron employees (higher-ups)"
   ]
  },
  {
   "cell_type": "markdown",
   "metadata": {},
   "source": [
    "## 1. Loading and cleaning data\n",
    "* Reference: https://www.kaggle.com/zichen/explore-enron/output"
   ]
  },
  {
   "cell_type": "code",
   "execution_count": 8,
   "metadata": {},
   "outputs": [],
   "source": [
    "import os, sys, email\n",
    "import numpy as np \n",
    "import pandas as pd\n",
    "import collections\n",
    "import re\n",
    "# Plotting\n",
    "import matplotlib.pyplot as plt\n",
    "%matplotlib inline\n",
    "#import seaborn as sns; sns.set_style('whitegrid')\n",
    "#import plotly\n",
    "#plotly.offline.init_notebook_mode()\n",
    "#import plotly.graph_objs as go\n",
    "#import wordcloud\n",
    "\n",
    "# Network analysis\n",
    "import networkx as nx\n",
    "#import graphviz\n",
    "# NLP\n",
    "from nltk.tokenize.regexp import RegexpTokenizer\n",
    "\n",
    "\n",
    "path = 'C:/Users/Margeum/Dropbox/DS projects/05. Email data/emails_in_csv'\n",
    "os.chdir(path)\n",
    "\n",
    "#from subprocess import check_output\n",
    "#print(check_output([\"ls\", \".\"]).decode(\"utf8\"))\n",
    "\n",
    "# Input data files are available in the \"../input/\" directory.\n",
    "# For example, running this (by clicking run or pressing Shift+Enter) will list the files in the input directory\n",
    "\n",
    "\n",
    "# Read the data into a DataFrame\n",
    "emails_df = pd.read_csv('./emails.csv')"
   ]
  },
  {
   "cell_type": "code",
   "execution_count": 9,
   "metadata": {},
   "outputs": [
    {
     "name": "stdout",
     "output_type": "stream",
     "text": [
      "(517401, 2)\n"
     ]
    },
    {
     "data": {
      "text/html": [
       "<div>\n",
       "<style scoped>\n",
       "    .dataframe tbody tr th:only-of-type {\n",
       "        vertical-align: middle;\n",
       "    }\n",
       "\n",
       "    .dataframe tbody tr th {\n",
       "        vertical-align: top;\n",
       "    }\n",
       "\n",
       "    .dataframe thead th {\n",
       "        text-align: right;\n",
       "    }\n",
       "</style>\n",
       "<table border=\"1\" class=\"dataframe\">\n",
       "  <thead>\n",
       "    <tr style=\"text-align: right;\">\n",
       "      <th></th>\n",
       "      <th>file</th>\n",
       "      <th>message</th>\n",
       "    </tr>\n",
       "  </thead>\n",
       "  <tbody>\n",
       "    <tr>\n",
       "      <th>0</th>\n",
       "      <td>allen-p/_sent_mail/1.</td>\n",
       "      <td>Message-ID: &lt;18782981.1075855378110.JavaMail.e...</td>\n",
       "    </tr>\n",
       "    <tr>\n",
       "      <th>1</th>\n",
       "      <td>allen-p/_sent_mail/10.</td>\n",
       "      <td>Message-ID: &lt;15464986.1075855378456.JavaMail.e...</td>\n",
       "    </tr>\n",
       "    <tr>\n",
       "      <th>2</th>\n",
       "      <td>allen-p/_sent_mail/100.</td>\n",
       "      <td>Message-ID: &lt;24216240.1075855687451.JavaMail.e...</td>\n",
       "    </tr>\n",
       "    <tr>\n",
       "      <th>3</th>\n",
       "      <td>allen-p/_sent_mail/1000.</td>\n",
       "      <td>Message-ID: &lt;13505866.1075863688222.JavaMail.e...</td>\n",
       "    </tr>\n",
       "    <tr>\n",
       "      <th>4</th>\n",
       "      <td>allen-p/_sent_mail/1001.</td>\n",
       "      <td>Message-ID: &lt;30922949.1075863688243.JavaMail.e...</td>\n",
       "    </tr>\n",
       "  </tbody>\n",
       "</table>\n",
       "</div>"
      ],
      "text/plain": [
       "                       file                                            message\n",
       "0     allen-p/_sent_mail/1.  Message-ID: <18782981.1075855378110.JavaMail.e...\n",
       "1    allen-p/_sent_mail/10.  Message-ID: <15464986.1075855378456.JavaMail.e...\n",
       "2   allen-p/_sent_mail/100.  Message-ID: <24216240.1075855687451.JavaMail.e...\n",
       "3  allen-p/_sent_mail/1000.  Message-ID: <13505866.1075863688222.JavaMail.e...\n",
       "4  allen-p/_sent_mail/1001.  Message-ID: <30922949.1075863688243.JavaMail.e..."
      ]
     },
     "execution_count": 9,
     "metadata": {},
     "output_type": "execute_result"
    }
   ],
   "source": [
    "print(emails_df.shape)\n",
    "emails_df.head()\n",
    "#print len(emails_df)"
   ]
  },
  {
   "cell_type": "code",
   "execution_count": 10,
   "metadata": {},
   "outputs": [
    {
     "name": "stdout",
     "output_type": "stream",
     "text": [
      "Message-ID: <18782981.1075855378110.JavaMail.evans@thyme>\n",
      "Date: Mon, 14 May 2001 16:39:00 -0700 (PDT)\n",
      "From: phillip.allen@enron.com\n",
      "To: tim.belden@enron.com\n",
      "Subject: \n",
      "Mime-Version: 1.0\n",
      "Content-Type: text/plain; charset=us-ascii\n",
      "Content-Transfer-Encoding: 7bit\n",
      "X-From: Phillip K Allen\n",
      "X-To: Tim Belden <Tim Belden/Enron@EnronXGate>\n",
      "X-cc: \n",
      "X-bcc: \n",
      "X-Folder: \\Phillip_Allen_Jan2002_1\\Allen, Phillip K.\\'Sent Mail\n",
      "X-Origin: Allen-P\n",
      "X-FileName: pallen (Non-Privileged).pst\n",
      "\n",
      "Here is our forecast\n",
      "\n",
      " \n"
     ]
    }
   ],
   "source": [
    "# A single message looks like this\n",
    "print(emails_df['message'][0])"
   ]
  },
  {
   "cell_type": "code",
   "execution_count": 11,
   "metadata": {},
   "outputs": [],
   "source": [
    "## Helper functions\n",
    "def get_text_from_email(msg):\n",
    "    '''To get the content from email objects'''\n",
    "    parts = []\n",
    "    for part in msg.walk():\n",
    "        if part.get_content_type() == 'text/plain':\n",
    "            parts.append( part.get_payload() )\n",
    "    return ''.join(parts)\n",
    "\n",
    "def split_email_addresses(line):\n",
    "    '''To separate multiple email addresses'''\n",
    "    if line:\n",
    "        addrs = line.split(',')\n",
    "        addrs = frozenset(map(lambda x: x.strip(), addrs))\n",
    "    else:\n",
    "        addrs = None\n",
    "    return addrs"
   ]
  },
  {
   "cell_type": "code",
   "execution_count": 12,
   "metadata": {
    "scrolled": true
   },
   "outputs": [
    {
     "data": {
      "text/html": [
       "<div>\n",
       "<style scoped>\n",
       "    .dataframe tbody tr th:only-of-type {\n",
       "        vertical-align: middle;\n",
       "    }\n",
       "\n",
       "    .dataframe tbody tr th {\n",
       "        vertical-align: top;\n",
       "    }\n",
       "\n",
       "    .dataframe thead th {\n",
       "        text-align: right;\n",
       "    }\n",
       "</style>\n",
       "<table border=\"1\" class=\"dataframe\">\n",
       "  <thead>\n",
       "    <tr style=\"text-align: right;\">\n",
       "      <th></th>\n",
       "      <th>file</th>\n",
       "      <th>Message-ID</th>\n",
       "      <th>Date</th>\n",
       "      <th>From</th>\n",
       "      <th>To</th>\n",
       "      <th>Subject</th>\n",
       "      <th>Mime-Version</th>\n",
       "      <th>Content-Type</th>\n",
       "      <th>Content-Transfer-Encoding</th>\n",
       "      <th>X-From</th>\n",
       "      <th>X-To</th>\n",
       "      <th>X-cc</th>\n",
       "      <th>X-bcc</th>\n",
       "      <th>X-Folder</th>\n",
       "      <th>X-Origin</th>\n",
       "      <th>X-FileName</th>\n",
       "      <th>content</th>\n",
       "      <th>user</th>\n",
       "    </tr>\n",
       "  </thead>\n",
       "  <tbody>\n",
       "    <tr>\n",
       "      <th>0</th>\n",
       "      <td>allen-p/_sent_mail/1.</td>\n",
       "      <td>&lt;18782981.1075855378110.JavaMail.evans@thyme&gt;</td>\n",
       "      <td>Mon, 14 May 2001 16:39:00 -0700 (PDT)</td>\n",
       "      <td>(phillip.allen@enron.com)</td>\n",
       "      <td>(tim.belden@enron.com)</td>\n",
       "      <td></td>\n",
       "      <td>1.0</td>\n",
       "      <td>text/plain; charset=us-ascii</td>\n",
       "      <td>7bit</td>\n",
       "      <td>Phillip K Allen</td>\n",
       "      <td>Tim Belden &lt;Tim Belden/Enron@EnronXGate&gt;</td>\n",
       "      <td></td>\n",
       "      <td></td>\n",
       "      <td>\\Phillip_Allen_Jan2002_1\\Allen, Phillip K.\\'Se...</td>\n",
       "      <td>Allen-P</td>\n",
       "      <td>pallen (Non-Privileged).pst</td>\n",
       "      <td>Here is our forecast\\n\\n</td>\n",
       "      <td>allen-p</td>\n",
       "    </tr>\n",
       "    <tr>\n",
       "      <th>1</th>\n",
       "      <td>allen-p/_sent_mail/10.</td>\n",
       "      <td>&lt;15464986.1075855378456.JavaMail.evans@thyme&gt;</td>\n",
       "      <td>Fri, 4 May 2001 13:51:00 -0700 (PDT)</td>\n",
       "      <td>(phillip.allen@enron.com)</td>\n",
       "      <td>(john.lavorato@enron.com)</td>\n",
       "      <td>Re:</td>\n",
       "      <td>1.0</td>\n",
       "      <td>text/plain; charset=us-ascii</td>\n",
       "      <td>7bit</td>\n",
       "      <td>Phillip K Allen</td>\n",
       "      <td>John J Lavorato &lt;John J Lavorato/ENRON@enronXg...</td>\n",
       "      <td></td>\n",
       "      <td></td>\n",
       "      <td>\\Phillip_Allen_Jan2002_1\\Allen, Phillip K.\\'Se...</td>\n",
       "      <td>Allen-P</td>\n",
       "      <td>pallen (Non-Privileged).pst</td>\n",
       "      <td>Traveling to have a business meeting takes the...</td>\n",
       "      <td>allen-p</td>\n",
       "    </tr>\n",
       "    <tr>\n",
       "      <th>2</th>\n",
       "      <td>allen-p/_sent_mail/100.</td>\n",
       "      <td>&lt;24216240.1075855687451.JavaMail.evans@thyme&gt;</td>\n",
       "      <td>Wed, 18 Oct 2000 03:00:00 -0700 (PDT)</td>\n",
       "      <td>(phillip.allen@enron.com)</td>\n",
       "      <td>(leah.arsdall@enron.com)</td>\n",
       "      <td>Re: test</td>\n",
       "      <td>1.0</td>\n",
       "      <td>text/plain; charset=us-ascii</td>\n",
       "      <td>7bit</td>\n",
       "      <td>Phillip K Allen</td>\n",
       "      <td>Leah Van Arsdall</td>\n",
       "      <td></td>\n",
       "      <td></td>\n",
       "      <td>\\Phillip_Allen_Dec2000\\Notes Folders\\'sent mail</td>\n",
       "      <td>Allen-P</td>\n",
       "      <td>pallen.nsf</td>\n",
       "      <td>test successful.  way to go!!!</td>\n",
       "      <td>allen-p</td>\n",
       "    </tr>\n",
       "    <tr>\n",
       "      <th>3</th>\n",
       "      <td>allen-p/_sent_mail/1000.</td>\n",
       "      <td>&lt;13505866.1075863688222.JavaMail.evans@thyme&gt;</td>\n",
       "      <td>Mon, 23 Oct 2000 06:13:00 -0700 (PDT)</td>\n",
       "      <td>(phillip.allen@enron.com)</td>\n",
       "      <td>(randall.gay@enron.com)</td>\n",
       "      <td></td>\n",
       "      <td>1.0</td>\n",
       "      <td>text/plain; charset=us-ascii</td>\n",
       "      <td>7bit</td>\n",
       "      <td>Phillip K Allen</td>\n",
       "      <td>Randall L Gay</td>\n",
       "      <td></td>\n",
       "      <td></td>\n",
       "      <td>\\Phillip_Allen_Dec2000\\Notes Folders\\'sent mail</td>\n",
       "      <td>Allen-P</td>\n",
       "      <td>pallen.nsf</td>\n",
       "      <td>Randy,\\n\\n Can you send me a schedule of the s...</td>\n",
       "      <td>allen-p</td>\n",
       "    </tr>\n",
       "    <tr>\n",
       "      <th>4</th>\n",
       "      <td>allen-p/_sent_mail/1001.</td>\n",
       "      <td>&lt;30922949.1075863688243.JavaMail.evans@thyme&gt;</td>\n",
       "      <td>Thu, 31 Aug 2000 05:07:00 -0700 (PDT)</td>\n",
       "      <td>(phillip.allen@enron.com)</td>\n",
       "      <td>(greg.piper@enron.com)</td>\n",
       "      <td>Re: Hello</td>\n",
       "      <td>1.0</td>\n",
       "      <td>text/plain; charset=us-ascii</td>\n",
       "      <td>7bit</td>\n",
       "      <td>Phillip K Allen</td>\n",
       "      <td>Greg Piper</td>\n",
       "      <td></td>\n",
       "      <td></td>\n",
       "      <td>\\Phillip_Allen_Dec2000\\Notes Folders\\'sent mail</td>\n",
       "      <td>Allen-P</td>\n",
       "      <td>pallen.nsf</td>\n",
       "      <td>Let's shoot for Tuesday at 11:45.</td>\n",
       "      <td>allen-p</td>\n",
       "    </tr>\n",
       "  </tbody>\n",
       "</table>\n",
       "</div>"
      ],
      "text/plain": [
       "                       file                                     Message-ID  \\\n",
       "0     allen-p/_sent_mail/1.  <18782981.1075855378110.JavaMail.evans@thyme>   \n",
       "1    allen-p/_sent_mail/10.  <15464986.1075855378456.JavaMail.evans@thyme>   \n",
       "2   allen-p/_sent_mail/100.  <24216240.1075855687451.JavaMail.evans@thyme>   \n",
       "3  allen-p/_sent_mail/1000.  <13505866.1075863688222.JavaMail.evans@thyme>   \n",
       "4  allen-p/_sent_mail/1001.  <30922949.1075863688243.JavaMail.evans@thyme>   \n",
       "\n",
       "                                    Date                       From  \\\n",
       "0  Mon, 14 May 2001 16:39:00 -0700 (PDT)  (phillip.allen@enron.com)   \n",
       "1   Fri, 4 May 2001 13:51:00 -0700 (PDT)  (phillip.allen@enron.com)   \n",
       "2  Wed, 18 Oct 2000 03:00:00 -0700 (PDT)  (phillip.allen@enron.com)   \n",
       "3  Mon, 23 Oct 2000 06:13:00 -0700 (PDT)  (phillip.allen@enron.com)   \n",
       "4  Thu, 31 Aug 2000 05:07:00 -0700 (PDT)  (phillip.allen@enron.com)   \n",
       "\n",
       "                          To    Subject Mime-Version  \\\n",
       "0     (tim.belden@enron.com)                     1.0   \n",
       "1  (john.lavorato@enron.com)        Re:          1.0   \n",
       "2   (leah.arsdall@enron.com)   Re: test          1.0   \n",
       "3    (randall.gay@enron.com)                     1.0   \n",
       "4     (greg.piper@enron.com)  Re: Hello          1.0   \n",
       "\n",
       "                   Content-Type Content-Transfer-Encoding           X-From  \\\n",
       "0  text/plain; charset=us-ascii                      7bit  Phillip K Allen   \n",
       "1  text/plain; charset=us-ascii                      7bit  Phillip K Allen   \n",
       "2  text/plain; charset=us-ascii                      7bit  Phillip K Allen   \n",
       "3  text/plain; charset=us-ascii                      7bit  Phillip K Allen   \n",
       "4  text/plain; charset=us-ascii                      7bit  Phillip K Allen   \n",
       "\n",
       "                                                X-To X-cc X-bcc  \\\n",
       "0           Tim Belden <Tim Belden/Enron@EnronXGate>              \n",
       "1  John J Lavorato <John J Lavorato/ENRON@enronXg...              \n",
       "2                                   Leah Van Arsdall              \n",
       "3                                      Randall L Gay              \n",
       "4                                         Greg Piper              \n",
       "\n",
       "                                            X-Folder X-Origin  \\\n",
       "0  \\Phillip_Allen_Jan2002_1\\Allen, Phillip K.\\'Se...  Allen-P   \n",
       "1  \\Phillip_Allen_Jan2002_1\\Allen, Phillip K.\\'Se...  Allen-P   \n",
       "2    \\Phillip_Allen_Dec2000\\Notes Folders\\'sent mail  Allen-P   \n",
       "3    \\Phillip_Allen_Dec2000\\Notes Folders\\'sent mail  Allen-P   \n",
       "4    \\Phillip_Allen_Dec2000\\Notes Folders\\'sent mail  Allen-P   \n",
       "\n",
       "                    X-FileName  \\\n",
       "0  pallen (Non-Privileged).pst   \n",
       "1  pallen (Non-Privileged).pst   \n",
       "2                   pallen.nsf   \n",
       "3                   pallen.nsf   \n",
       "4                   pallen.nsf   \n",
       "\n",
       "                                             content     user  \n",
       "0                          Here is our forecast\\n\\n   allen-p  \n",
       "1  Traveling to have a business meeting takes the...  allen-p  \n",
       "2                     test successful.  way to go!!!  allen-p  \n",
       "3  Randy,\\n\\n Can you send me a schedule of the s...  allen-p  \n",
       "4                Let's shoot for Tuesday at 11:45.    allen-p  "
      ]
     },
     "execution_count": 12,
     "metadata": {},
     "output_type": "execute_result"
    }
   ],
   "source": [
    "# Parse the emails into a list email objects\n",
    "messages = list(map(email.message_from_string, emails_df['message']))\n",
    "emails_df.drop('message', axis=1, inplace=True)\n",
    "# Get fields from parsed email objects\n",
    "keys = messages[0].keys()\n",
    "for key in keys:\n",
    "    emails_df[key] = [doc[key] for doc in messages]\n",
    "# Parse content from emails\n",
    "emails_df['content'] = list(map(get_text_from_email, messages))\n",
    "# Split multiple email addresses\n",
    "emails_df['From'] = emails_df['From'].map(split_email_addresses)\n",
    "emails_df['To'] = emails_df['To'].map(split_email_addresses)\n",
    "\n",
    "# Extract the root of 'file' as 'user'\n",
    "emails_df['user'] = emails_df['file'].map(lambda x:x.split('/')[0])\n",
    "del messages\n",
    "\n",
    "emails_df.head()"
   ]
  },
  {
   "cell_type": "code",
   "execution_count": 175,
   "metadata": {},
   "outputs": [
    {
     "name": "stdout",
     "output_type": "stream",
     "text": [
      "517401\n",
      "495554\n",
      "186             (tim.belden@enron.com)\n",
      "187             (dawn.kenne@enron.com)\n",
      "188    (kenneth.shulklapper@enron.com)\n",
      "189             (laird.dyer@enron.com)\n",
      "Name: To, dtype: object\n"
     ]
    }
   ],
   "source": [
    "# from - to --> Edges \n",
    "edges = pd.DataFrame(emails_df[['From', 'To', 'Date']].copy())\n",
    "edges.head()\n",
    "print (len(edges))\n",
    "edges = edges.dropna()\n",
    "print (len(edges))\n",
    "edges.reset_index(drop=True, inplace=True)\n",
    "#edges[6:7]\n",
    "#print(edges['To'][6])\n",
    "\n",
    "#fromto_first10 = edges[['From', 'To', 'Date']][0:10].copy()\n",
    "#fromto_first10\n",
    "\n",
    "#day = edges['Date'][0].split(\",\")[0]\n",
    "#month = re.findall(r'\\w\\w\\w', edges['Date'][0].split(\",\")[1])[0]\n",
    "#day = re.findall(r'[0-9][0-9]', edges['Date'][0].split(\",\")[1])[1]\n",
    "#timezone = (edges['Date'][0].split(\"(\")[1]).split(\")\")[0]\n",
    "print (edges['To'][186:190])"
   ]
  },
  {
   "cell_type": "code",
   "execution_count": 290,
   "metadata": {},
   "outputs": [
    {
     "name": "stdout",
     "output_type": "stream",
     "text": [
      "   EdgeID Date  Day                     From Month TimeZone  \\\n",
      "0       0   20  Mon  phillip.allen@enron.com   May      PDT   \n",
      "1       1   20  Mon  phillip.allen@enron.com   May      PDT   \n",
      "2       2   20  Mon  phillip.allen@enron.com   May      PDT   \n",
      "3       3   20  Mon  phillip.allen@enron.com   May      PDT   \n",
      "4       4   20  Mon  phillip.allen@enron.com   May      PDT   \n",
      "\n",
      "                        To  Year  \n",
      "0     tim.belden@enron.com  2001  \n",
      "1  john.lavorato@enron.com  2001  \n",
      "2   leah.arsdall@enron.com  2001  \n",
      "3    randall.gay@enron.com  2001  \n",
      "4     greg.piper@enron.com  2001  \n"
     ]
    }
   ],
   "source": [
    "from_list = []\n",
    "to_list = []\n",
    "year_list = []\n",
    "month_list = []\n",
    "date_list = []\n",
    "day_list = []\n",
    "timezone_list = []\n",
    "\n",
    "for i in range(0, len(edges)):\n",
    "#    to_list_items = list(fromto_first10['To'][i])\n",
    "#    for j in range(0, len(to_add)):\n",
    "    from_add = list(edges['From'][i])\n",
    "    if from_add[0].find('@enron.com') > 0:\n",
    "        to_add = list(edges['To'][i])\n",
    "        if to_add[0].find('@enron.com') > 0:\n",
    "            for item in to_add:\n",
    "                from_list.append(from_add[0])\n",
    "                to_list.append(item)\n",
    "                year_list.append((re.findall(r'[\\d]{4}', edges['Date'][0]))[0])\n",
    "                day_list.append(edges['Date'][0].split(\",\")[0])\n",
    "                month_list.append(re.findall(r'\\w\\w\\w', edges['Date'][0].split(\",\")[1])[0])\n",
    "                date_list.append(re.findall(r'[0-9][0-9]', edges['Date'][0].split(\",\")[1])[1])\n",
    "                timezone_list.append((edges['Date'][0].split(\"(\")[1]).split(\")\")[0])\n",
    "\n",
    "#    print list(fromto_first10['To'][i])\n",
    "\n",
    "#print (len(from_list), len(to_list))\n",
    "#print from_list\n",
    "\n",
    "#print to_list\n",
    "edgelist = {'From':from_list,'To':to_list, 'Year': year_list,\n",
    "           'Month':month_list, \"Date\":date_list, \"Day\":day_list,\n",
    "           \"TimeZone\":timezone_list}\n",
    "edgelist_df = pd.DataFrame(edgelist)\n",
    "edgelist_df.insert(0, 'EdgeID', range(0, 0 + len(edgelist_df)))\n",
    "print edgelist_df.head()"
   ]
  },
  {
   "cell_type": "code",
   "execution_count": null,
   "metadata": {},
   "outputs": [
    {
     "name": "stdout",
     "output_type": "stream",
     "text": [
      "set(['quenet-j', 'perlingiere-d', 'davis-d', 'arora-h', 'geaccone-t', 'shively-h', 'griffith-j', 'dean-c', 'schoolcraft-d', 'crandell-s', 'king-j', 'keavey-p', 'hyatt-k', 'mcconnell-m', 'hain-m', 'semperger-c', 'ermis-f', 'whalley-g', 'zipper-a', 'hernandez-j', 'forney-j', 'lavorato-j', 'benson-r', 'donohoe-t', 'harris-s', 'scholtes-d', 'causholli-m', 'merriss-s', 'hendrickson-s', 'fossum-d', 'allen-p', 'phanis-s', 'ybarbo-p', 'stokley-c', 'williams-w3', 'hyvl-d', 'tycholiz-b', 'farmer-d', 'staab-t', 'carson-m', 'lenhart-m', 'weldon-c', 'townsend-j', 'schwieger-j', 'heard-m', 'dickson-s', 'buy-r', 'baughman-d', 'rapp-b', 'cuilla-m', 'lokay-m', 'dorland-c', 'haedicke-m', 'love-p', 'badeer-r', 'jones-t', 'symes-k', 'wolfe-j', 'whalley-l', 'ring-a', 'linder-e', 'martin-t', 'platter-p', 'zufferli-j', 'ruscitti-k', 'steffes-j', 'ring-r', 'holst-k', 'nemec-g', 'saibi-e', 'mann-k', 'guzman-m', 'cash-m', 'brawner-s', 'meyers-a', 'sanders-r', 'scott-s', 'gang-l', 'blair-l', 'keiser-k', 'kaminski-v', 'stepenovitch-j', 'grigsby-m', 'swerzbin-m', 'shapiro-r', 'neal-s', 'kean-s', 'richey-c', 'mclaughlin-e', 'kuykendall-t', 'mccarty-d', 'sager-e', 'arnold-j', 'lay-k', 'gilbertsmith-d', 'smith-m', 'sturm-f', 'pereira-s', 'horton-s', 'presto-k', 'mims-thurston-p', 'shackleton-s', 'lewis-a', 'beck-s', 'delainey-d', 'may-l', 'williams-j', 'stclair-c', 'germany-c', 'rodrique-r', 'whitt-m', 'panus-s', 'derrick-j', 'giron-d', 'tholt-j', 'hayslett-r', 'maggi-m', 'white-s', 'lokey-t', 'rogers-b', 'gay-r', 'taylor-m', 'slinger-r', 'sanchez-m', 'quigley-d', 'south-s', 'motley-m', 'fischer-m', 'dasovich-j', 'hodge-j', 'storey-g', 'kitchen-l', 'lucci-p', 'shankman-j', 'salisbury-h', 'donoho-l', 'watson-k', 'solberg-g', 'skilling-j', 'thomas-p', 'mckay-b', 'reitmeyer-j', 'bass-e', 'mckay-j', 'corman-s', 'campbell-l', 'parks-j', 'pimenov-v', 'ward-k', 'bailey-s'])\n"
     ]
    },
    {
     "name": "stderr",
     "output_type": "stream",
     "text": [
      "C:\\Users\\Margeum\\Anaconda2\\lib\\site-packages\\ipykernel_launcher.py:22: FutureWarning: set_value is deprecated and will be removed in a future release. Please use .at[] or .iat[] accessors instead\n",
      "C:\\Users\\Margeum\\Anaconda2\\lib\\site-packages\\ipykernel_launcher.py:32: FutureWarning: set_value is deprecated and will be removed in a future release. Please use .at[] or .iat[] accessors instead\n"
     ]
    }
   ],
   "source": [
    "user = set(emails_df['user'])\n",
    "#print(len(user))\n",
    "print(user)\n",
    "\n",
    "#small_edge = edgelist_df[:10]\n",
    "#for item in edgelist_df:\n",
    "#    item['From'] \n",
    "edgelist_df['from_filter'] = 'NaN'\n",
    "edgelist_df['to_filter'] = 'NaN'\n",
    "\n",
    "for index, row in edgelist_df.iterrows():\n",
    "#    print(row['From'], row['To'])    \n",
    "    current_email_from = row['From']\n",
    "    firstletter_from = list(current_email_from.split('.')[0])[0]  #first letter of the first name\n",
    "    lastname_from = current_email_from.split('@')[0].split('.')[-1]\n",
    "    user_to_match_from = lastname_from + '-' + firstletter_from\n",
    "#    print(user_to_match_from)\n",
    "    #matches = set(user).intersection(set(user_to_match_from))\n",
    "    matches_from = [c for c in user if c in user_to_match_from]\n",
    "#    print(matches_from)\n",
    "    true_val_from = len(matches_from)\n",
    "    edgelist_df.set_value(index,'from_filter',true_val_from)\n",
    "    \n",
    "    current_email_to = row['To']\n",
    "    firstletter_to = list(current_email_to.split('.')[0])[0]  #first letter of the first name\n",
    "    lastname_to = current_email_to.split('@')[0].split('.')[-1]\n",
    "    user_to_match_to = lastname_to + '-' + firstletter_to\n",
    "#    print(user_to_match_to)\n",
    "    matches_to = [c for c in user if c in user_to_match_to]\n",
    "#    print(matches_to)\n",
    "    true_val_to = len(matches_to)\n",
    "    edgelist_df.set_value(index,'to_filter',true_val_to)\n",
    "\n",
    "print edgelist_df.head()\n",
    "    \n",
    "\n",
    "#email_addresses = list(set(edgelist_df['From']))\n",
    "#print(len(email_addresses))\n",
    "\n",
    "#print(email_addresses[0:20])\n",
    "#current_email = email_addresses[5]\n",
    "#firstletter_firstname = list(current_email.split('.')[0])[0]  #first letter of the first name\n",
    "#lastname = current_email.split('@')[0].split('.')[-1]\n",
    "#user_to_match = lastname + '-' + firstletter_firstname\n",
    "#print(user_to_match)\n",
    "\n",
    "#user_to_match in user\n",
    "\n",
    "#email_set = from_set.union(to_set)\n",
    "#print(len(email_set))"
   ]
  },
  {
   "cell_type": "code",
   "execution_count": 115,
   "metadata": {
    "scrolled": true
   },
   "outputs": [],
   "source": [
    "#ax = emails_df.groupby(emails_df['Date'].dt.year)['content'].count().plot()\n",
    "#ax.set_xlabel('Year', fontsize = 18)\n",
    "#ax.set_ylabel('Email count', fontsize = 18)"
   ]
  },
  {
   "cell_type": "code",
   "execution_count": 312,
   "metadata": {},
   "outputs": [
    {
     "name": "stdout",
     "output_type": "stream",
     "text": [
      "(2487469, 8)\n",
      "(2487469, 3)\n"
     ]
    }
   ],
   "source": [
    "type(edgelist_df)\n",
    "edgelist_df.head()\n",
    "sub_df = edgelist_df[edgelist_df['Year'] == '2001']\n",
    "sub_df = sub_df[['From', 'To', 'EdgeID']]\n",
    "print(edgelist_df.shape)\n",
    "print(sub_df.shape)\n",
    "#sub_df.head(50)"
   ]
  },
  {
   "cell_type": "code",
   "execution_count": 292,
   "metadata": {},
   "outputs": [
    {
     "data": {
      "text/html": [
       "<div>\n",
       "<style scoped>\n",
       "    .dataframe tbody tr th:only-of-type {\n",
       "        vertical-align: middle;\n",
       "    }\n",
       "\n",
       "    .dataframe tbody tr th {\n",
       "        vertical-align: top;\n",
       "    }\n",
       "\n",
       "    .dataframe thead th {\n",
       "        text-align: right;\n",
       "    }\n",
       "</style>\n",
       "<table border=\"1\" class=\"dataframe\">\n",
       "  <thead>\n",
       "    <tr style=\"text-align: right;\">\n",
       "      <th></th>\n",
       "      <th>count</th>\n",
       "    </tr>\n",
       "  </thead>\n",
       "  <tbody>\n",
       "    <tr>\n",
       "      <th>count</th>\n",
       "      <td>202882.000000</td>\n",
       "    </tr>\n",
       "    <tr>\n",
       "      <th>mean</th>\n",
       "      <td>12.260669</td>\n",
       "    </tr>\n",
       "    <tr>\n",
       "      <th>std</th>\n",
       "      <td>51.765083</td>\n",
       "    </tr>\n",
       "    <tr>\n",
       "      <th>min</th>\n",
       "      <td>1.000000</td>\n",
       "    </tr>\n",
       "    <tr>\n",
       "      <th>25%</th>\n",
       "      <td>2.000000</td>\n",
       "    </tr>\n",
       "    <tr>\n",
       "      <th>50%</th>\n",
       "      <td>3.000000</td>\n",
       "    </tr>\n",
       "    <tr>\n",
       "      <th>75%</th>\n",
       "      <td>8.000000</td>\n",
       "    </tr>\n",
       "    <tr>\n",
       "      <th>max</th>\n",
       "      <td>9141.000000</td>\n",
       "    </tr>\n",
       "  </tbody>\n",
       "</table>\n",
       "</div>"
      ],
      "text/plain": [
       "               count\n",
       "count  202882.000000\n",
       "mean       12.260669\n",
       "std        51.765083\n",
       "min         1.000000\n",
       "25%         2.000000\n",
       "50%         3.000000\n",
       "75%         8.000000\n",
       "max      9141.000000"
      ]
     },
     "execution_count": 292,
     "metadata": {},
     "output_type": "execute_result"
    }
   ],
   "source": [
    "sub_df = sub_df.groupby([\"From\", \"To\"]).count().reset_index()\n",
    "#n_by_state = df.groupby(\"state\")[\"last_name\"].count()\n",
    "\n",
    "\n",
    "#sub_df['From']['phillip.allen@enron.com']\n",
    "sub_df.head()\n",
    "# Unpack frozensets\n",
    "#sub_df['From'] = sub_df['From'].map(lambda x: next(iter(x)))\n",
    "#sub_df['To'] = sub_df['To'].map(lambda x: next(iter(x)))\n",
    "# rename column\n",
    "\n",
    "sub_df.rename(columns={'EdgeID': 'count'}, inplace=True)\n",
    "sub_df.sort_values(by='count', ascending=False).head()\n",
    "\n",
    "sub_df.describe()\n",
    "#type(sub_df['count'])"
   ]
  },
  {
   "cell_type": "code",
   "execution_count": 294,
   "metadata": {},
   "outputs": [
    {
     "name": "stdout",
     "output_type": "stream",
     "text": [
      "Number of nodes: 22805, Number of edges: 202882\n"
     ]
    }
   ],
   "source": [
    "# remove self-self ties \n",
    "\n",
    "G = nx.from_pandas_edgelist(sub_df, 'From', 'To', edge_attr='count', create_using=nx.DiGraph())\n",
    "print('Number of nodes: %d, Number of edges: %d' % (G.number_of_nodes(), G.number_of_edges()))\n"
   ]
  },
  {
   "cell_type": "code",
   "execution_count": 295,
   "metadata": {},
   "outputs": [
    {
     "ename": "KeyboardInterrupt",
     "evalue": "",
     "output_type": "error",
     "traceback": [
      "\u001b[1;31m\u001b[0m",
      "\u001b[1;31mKeyboardInterrupt\u001b[0mTraceback (most recent call last)",
      "\u001b[1;32m<ipython-input-295-684bd8604148>\u001b[0m in \u001b[0;36m<module>\u001b[1;34m()\u001b[0m\n\u001b[0;32m      2\u001b[0m \u001b[0min_degree_collector\u001b[0m \u001b[1;33m=\u001b[0m \u001b[1;33m[\u001b[0m\u001b[1;33m]\u001b[0m\u001b[1;33m\u001b[0m\u001b[0m\n\u001b[0;32m      3\u001b[0m \u001b[1;32mfor\u001b[0m \u001b[0mj\u001b[0m \u001b[1;32min\u001b[0m \u001b[0mrange\u001b[0m\u001b[1;33m(\u001b[0m\u001b[1;36m0\u001b[0m\u001b[1;33m,\u001b[0m \u001b[0mlen\u001b[0m\u001b[1;33m(\u001b[0m\u001b[0min_degree_dict\u001b[0m\u001b[1;33m)\u001b[0m\u001b[1;33m)\u001b[0m\u001b[1;33m:\u001b[0m\u001b[1;33m\u001b[0m\u001b[0m\n\u001b[1;32m----> 4\u001b[1;33m     \u001b[0min_degree_collector\u001b[0m\u001b[1;33m.\u001b[0m\u001b[0mappend\u001b[0m\u001b[1;33m(\u001b[0m\u001b[0mint\u001b[0m\u001b[1;33m(\u001b[0m\u001b[0mstr\u001b[0m\u001b[1;33m(\u001b[0m\u001b[0mlist\u001b[0m\u001b[1;33m(\u001b[0m\u001b[0min_degree_dict\u001b[0m\u001b[1;33m)\u001b[0m\u001b[1;33m[\u001b[0m\u001b[0mj\u001b[0m\u001b[1;33m]\u001b[0m\u001b[1;33m[\u001b[0m\u001b[1;36m1\u001b[0m\u001b[1;33m]\u001b[0m\u001b[1;33m)\u001b[0m\u001b[1;33m)\u001b[0m\u001b[1;33m)\u001b[0m\u001b[1;33m\u001b[0m\u001b[0m\n\u001b[0m\u001b[0;32m      5\u001b[0m \u001b[1;32mprint\u001b[0m \u001b[0min_degree_collector\u001b[0m\u001b[1;33m\u001b[0m\u001b[0m\n\u001b[0;32m      6\u001b[0m \u001b[1;33m\u001b[0m\u001b[0m\n",
      "\u001b[1;32mC:\\Users\\Margeum\\Anaconda2\\lib\\site-packages\\networkx\\classes\\reportviews.pyc\u001b[0m in \u001b[0;36m__iter__\u001b[1;34m(self)\u001b[0m\n\u001b[0;32m    496\u001b[0m             \u001b[1;32mfor\u001b[0m \u001b[0mn\u001b[0m \u001b[1;32min\u001b[0m \u001b[0mself\u001b[0m\u001b[1;33m.\u001b[0m\u001b[0m_nodes\u001b[0m\u001b[1;33m:\u001b[0m\u001b[1;33m\u001b[0m\u001b[0m\n\u001b[0;32m    497\u001b[0m                 \u001b[0mpreds\u001b[0m \u001b[1;33m=\u001b[0m \u001b[0mself\u001b[0m\u001b[1;33m.\u001b[0m\u001b[0m_pred\u001b[0m\u001b[1;33m[\u001b[0m\u001b[0mn\u001b[0m\u001b[1;33m]\u001b[0m\u001b[1;33m\u001b[0m\u001b[0m\n\u001b[1;32m--> 498\u001b[1;33m                 \u001b[0mdeg\u001b[0m \u001b[1;33m=\u001b[0m \u001b[0msum\u001b[0m\u001b[1;33m(\u001b[0m\u001b[0mdd\u001b[0m\u001b[1;33m.\u001b[0m\u001b[0mget\u001b[0m\u001b[1;33m(\u001b[0m\u001b[0mweight\u001b[0m\u001b[1;33m,\u001b[0m \u001b[1;36m1\u001b[0m\u001b[1;33m)\u001b[0m \u001b[1;32mfor\u001b[0m \u001b[0mdd\u001b[0m \u001b[1;32min\u001b[0m \u001b[0mpreds\u001b[0m\u001b[1;33m.\u001b[0m\u001b[0mvalues\u001b[0m\u001b[1;33m(\u001b[0m\u001b[1;33m)\u001b[0m\u001b[1;33m)\u001b[0m\u001b[1;33m\u001b[0m\u001b[0m\n\u001b[0m\u001b[0;32m    499\u001b[0m                 \u001b[1;32myield\u001b[0m \u001b[1;33m(\u001b[0m\u001b[0mn\u001b[0m\u001b[1;33m,\u001b[0m \u001b[0mdeg\u001b[0m\u001b[1;33m)\u001b[0m\u001b[1;33m\u001b[0m\u001b[0m\n\u001b[0;32m    500\u001b[0m \u001b[1;33m\u001b[0m\u001b[0m\n",
      "\u001b[1;32mC:\\Users\\Margeum\\Anaconda2\\lib\\site-packages\\networkx\\classes\\reportviews.pyc\u001b[0m in \u001b[0;36m<genexpr>\u001b[1;34m((dd,))\u001b[0m\n\u001b[0;32m    496\u001b[0m             \u001b[1;32mfor\u001b[0m \u001b[0mn\u001b[0m \u001b[1;32min\u001b[0m \u001b[0mself\u001b[0m\u001b[1;33m.\u001b[0m\u001b[0m_nodes\u001b[0m\u001b[1;33m:\u001b[0m\u001b[1;33m\u001b[0m\u001b[0m\n\u001b[0;32m    497\u001b[0m                 \u001b[0mpreds\u001b[0m \u001b[1;33m=\u001b[0m \u001b[0mself\u001b[0m\u001b[1;33m.\u001b[0m\u001b[0m_pred\u001b[0m\u001b[1;33m[\u001b[0m\u001b[0mn\u001b[0m\u001b[1;33m]\u001b[0m\u001b[1;33m\u001b[0m\u001b[0m\n\u001b[1;32m--> 498\u001b[1;33m                 \u001b[0mdeg\u001b[0m \u001b[1;33m=\u001b[0m \u001b[0msum\u001b[0m\u001b[1;33m(\u001b[0m\u001b[0mdd\u001b[0m\u001b[1;33m.\u001b[0m\u001b[0mget\u001b[0m\u001b[1;33m(\u001b[0m\u001b[0mweight\u001b[0m\u001b[1;33m,\u001b[0m \u001b[1;36m1\u001b[0m\u001b[1;33m)\u001b[0m \u001b[1;32mfor\u001b[0m \u001b[0mdd\u001b[0m \u001b[1;32min\u001b[0m \u001b[0mpreds\u001b[0m\u001b[1;33m.\u001b[0m\u001b[0mvalues\u001b[0m\u001b[1;33m(\u001b[0m\u001b[1;33m)\u001b[0m\u001b[1;33m)\u001b[0m\u001b[1;33m\u001b[0m\u001b[0m\n\u001b[0m\u001b[0;32m    499\u001b[0m                 \u001b[1;32myield\u001b[0m \u001b[1;33m(\u001b[0m\u001b[0mn\u001b[0m\u001b[1;33m,\u001b[0m \u001b[0mdeg\u001b[0m\u001b[1;33m)\u001b[0m\u001b[1;33m\u001b[0m\u001b[0m\n\u001b[0;32m    500\u001b[0m \u001b[1;33m\u001b[0m\u001b[0m\n",
      "\u001b[1;31mKeyboardInterrupt\u001b[0m: "
     ]
    }
   ],
   "source": [
    "in_degree_dict = G.in_degree(weight='count')\n",
    "in_degree_collector = []\n",
    "for j in range(0, len(in_degree_dict)):\n",
    "    in_degree_collector.append(int(str(list(in_degree_dict)[j][1])))\n",
    "print in_degree_collector    \n",
    "\n",
    "out_degree_dict = G.out_degree(weight='count')\n",
    "out_degree_collector = []\n",
    "for j in range(0, len(out_degree_dict)):\n",
    "    out_degree_collector.append(int(str(list(out_degree_dict)[j][1])))\n",
    "print out_degree_collector    \n"
   ]
  },
  {
   "cell_type": "code",
   "execution_count": null,
   "metadata": {},
   "outputs": [],
   "source": [
    "\n",
    "plt.hist(in_degree_collector, density = False, bins = 3)\n",
    "plt.ylabel('Count')\n",
    "plt.xlabel('In-degrees')\n",
    "plt.title('Number of Incoming Emails per Person')\n",
    "plt.show()\n",
    "\n",
    "plt.hist(out_degree_collector, density = False, bins = 8)\n",
    "plt.ylabel('Count')\n",
    "plt.xlabel('Out-degrees')\n",
    "plt.title('Number of Outgoing Emails per Person')\n",
    "plt.show()"
   ]
  },
  {
   "cell_type": "code",
   "execution_count": 73,
   "metadata": {},
   "outputs": [
    {
     "name": "stdout",
     "output_type": "stream",
     "text": [
      "0\n"
     ]
    }
   ],
   "source": [
    "#G_ud = G.to_undirected()   \n",
    "\n",
    "#print nx.clustering(G_ud, 'leah.arsdall@enron.com')"
   ]
  },
  {
   "cell_type": "code",
   "execution_count": 113,
   "metadata": {
    "scrolled": true
   },
   "outputs": [
    {
     "data": {
      "image/png": "[encoded data removed]",
      "text/plain": [
       "<Figure size 432x288 with 1 Axes>"
      ]
     },
     "metadata": {},
     "output_type": "display_data"
    }
   ],
   "source": [
    "#pos = nx.spring_layout(G)\n",
    "#colors = range(20)\n",
    "\n",
    "edge_weight = list(sub_df['count'])\n",
    "\n",
    "#in_degree_labels = in_degree_collector\n",
    "#print(in_degree_labels)\n",
    "nx.draw(G, node_color='#a0CBE2', with_labels=True, arrows = False,\n",
    "        node_size=200, width=edge_weight, edge_cmp=plt.cm.Blues)\n",
    "plt.title('Weighed Edges')\n",
    "plt.show()\n",
    "\n",
    "#out_degree_labels = out_degree_collector\n",
    "#print(out_degree_labels)\n",
    "#nx.draw(G, node_color='#a0CBE2', with_labels=True, arrows = False,\n",
    "#        node_size=200, width=out_degree_labels, edge_cmp=plt.cm.Blues)\n",
    "#plt.title('Out-degrees')\n",
    "#plt.show()\n",
    "\n",
    "\n",
    "# Need pairwise degrees of separation -- pathlenghths\n",
    "# Need to weight the edges by count"
   ]
  },
  {
   "cell_type": "code",
   "execution_count": 287,
   "metadata": {},
   "outputs": [
    {
     "ename": "AttributeError",
     "evalue": "'InDegreeView' object has no attribute 'values'",
     "output_type": "error",
     "traceback": [
      "\u001b[1;31m\u001b[0m",
      "\u001b[1;31mAttributeError\u001b[0mTraceback (most recent call last)",
      "\u001b[1;32m<ipython-input-287-bdc5bc921a66>\u001b[0m in \u001b[0;36m<module>\u001b[1;34m()\u001b[0m\n\u001b[0;32m      1\u001b[0m \u001b[0mfig\u001b[0m\u001b[1;33m,\u001b[0m \u001b[1;33m(\u001b[0m\u001b[0max1\u001b[0m\u001b[1;33m,\u001b[0m \u001b[0max2\u001b[0m\u001b[1;33m)\u001b[0m \u001b[1;33m=\u001b[0m \u001b[0mplt\u001b[0m\u001b[1;33m.\u001b[0m\u001b[0msubplots\u001b[0m\u001b[1;33m(\u001b[0m\u001b[1;36m1\u001b[0m\u001b[1;33m,\u001b[0m\u001b[1;36m2\u001b[0m\u001b[1;33m,\u001b[0m \u001b[0mfigsize\u001b[0m\u001b[1;33m=\u001b[0m\u001b[1;33m(\u001b[0m\u001b[1;36m12\u001b[0m\u001b[1;33m,\u001b[0m \u001b[1;36m8\u001b[0m\u001b[1;33m)\u001b[0m\u001b[1;33m)\u001b[0m\u001b[1;33m\u001b[0m\u001b[0m\n\u001b[1;32m----> 2\u001b[1;33m \u001b[0max1\u001b[0m\u001b[1;33m.\u001b[0m\u001b[0mhist\u001b[0m\u001b[1;33m(\u001b[0m\u001b[0mlist\u001b[0m\u001b[1;33m(\u001b[0m\u001b[0mG\u001b[0m\u001b[1;33m.\u001b[0m\u001b[0min_degree\u001b[0m\u001b[1;33m(\u001b[0m\u001b[0mweight\u001b[0m\u001b[1;33m=\u001b[0m\u001b[1;34m'count'\u001b[0m\u001b[1;33m)\u001b[0m\u001b[1;33m.\u001b[0m\u001b[0mvalues\u001b[0m\u001b[1;33m(\u001b[0m\u001b[1;33m)\u001b[0m\u001b[1;33m)\u001b[0m\u001b[1;33m,\u001b[0m \u001b[0mlog\u001b[0m\u001b[1;33m=\u001b[0m\u001b[0mTrue\u001b[0m\u001b[1;33m,\u001b[0m \u001b[0mbins\u001b[0m\u001b[1;33m=\u001b[0m\u001b[1;36m20\u001b[0m\u001b[1;33m)\u001b[0m\u001b[1;33m\u001b[0m\u001b[0m\n\u001b[0m\u001b[0;32m      3\u001b[0m \u001b[0max1\u001b[0m\u001b[1;33m.\u001b[0m\u001b[0mset_xlabel\u001b[0m\u001b[1;33m(\u001b[0m\u001b[1;34m'In-degrees'\u001b[0m\u001b[1;33m,\u001b[0m \u001b[0mfontsize\u001b[0m\u001b[1;33m=\u001b[0m\u001b[1;36m18\u001b[0m\u001b[1;33m)\u001b[0m\u001b[1;33m\u001b[0m\u001b[0m\n\u001b[0;32m      4\u001b[0m \u001b[1;33m\u001b[0m\u001b[0m\n\u001b[0;32m      5\u001b[0m \u001b[0max2\u001b[0m\u001b[1;33m.\u001b[0m\u001b[0mhist\u001b[0m\u001b[1;33m(\u001b[0m\u001b[0mlist\u001b[0m\u001b[1;33m(\u001b[0m\u001b[0mG\u001b[0m\u001b[1;33m.\u001b[0m\u001b[0mout_degree\u001b[0m\u001b[1;33m(\u001b[0m\u001b[0mweight\u001b[0m\u001b[1;33m=\u001b[0m\u001b[1;34m'count'\u001b[0m\u001b[1;33m)\u001b[0m\u001b[1;33m.\u001b[0m\u001b[0mvalues\u001b[0m\u001b[1;33m(\u001b[0m\u001b[1;33m)\u001b[0m\u001b[1;33m)\u001b[0m\u001b[1;33m,\u001b[0m \u001b[0mlog\u001b[0m\u001b[1;33m=\u001b[0m\u001b[0mTrue\u001b[0m\u001b[1;33m,\u001b[0m \u001b[0mbins\u001b[0m\u001b[1;33m=\u001b[0m\u001b[1;36m20\u001b[0m\u001b[1;33m)\u001b[0m\u001b[1;33m\u001b[0m\u001b[0m\n",
      "\u001b[1;31mAttributeError\u001b[0m: 'InDegreeView' object has no attribute 'values'"
     ]
    },
    {
     "data": {
      "image/png": "[encoded data removed]",
      "text/plain": [
       "<Figure size 864x576 with 2 Axes>"
      ]
     },
     "metadata": {},
     "output_type": "display_data"
    }
   ],
   "source": [
    "fig, (ax1, ax2) = plt.subplots(1,2, figsize=(12, 8))\n",
    "\n",
    "ax1.hist(list(G.in_degree(weight='count').values()), log=True, bins=20)\n",
    "ax1.set_xlabel('In-degrees', fontsize=18)\n",
    "\n",
    "ax2.hist(list(G.out_degree(weight='count').values()), log=True, bins=20)\n",
    "ax2.set_xlabel('Out-degrees', fontsize=18)"
   ]
  },
  {
   "cell_type": "markdown",
   "metadata": {},
   "source": [
    "## NOTE\n",
    "emails['message'][1500]    \n",
    "[1] for no forwarded msg, no chain; \n",
    "[111] forwarded with msg\n",
    "[1500] forwarded msg but with \"Original Message\" tag... \n",
    "* Maybe... within a message, if there are two lines of \"to\" and \"from\".. \n",
    "* --> take the first one?? \n",
    "*  Or just remove all the headers and info/data things... using #t and #n...\n",
    "\n",
    "[15000] forwarding a msg without any \"forwarded\" or \"Original Message\" tags --> \n",
    "*  --> Should use removing technique -- \\nSubject: XXXXX \\n / \n",
    "\n",
    "* to extract content: Use this structure.... the main body is: \n",
    "*  \\nX-FileName: pallen (Non-Privileged).pst\\n\\n \n",
    "\n",
    "*  cf) if forwarded is in file.... do I want to do \n",
    "*  Refer to this notebook: https://www.kaggle.com/justindomingue/data-preparation\n",
    "*  and this one: https://www.kaggle.com/anilkumarkanasani/structuring-enron-emails  \n",
    "  \n",
    "       \n",
    "  \n",
    "* If the content have \"to\" and \"from\" addresses.... --> delete these later on"
   ]
  },
  {
   "cell_type": "code",
   "execution_count": 47,
   "metadata": {},
   "outputs": [
    {
     "name": "stdout",
     "output_type": "stream",
     "text": [
      "([<_sre.SRE_Match object at 0x00000000090AACA8>, <_sre.SRE_Match object at 0x0000000009199180>, <_sre.SRE_Match object at 0x0000000009199D50>, <_sre.SRE_Match object at 0x00000000091998B8>, <_sre.SRE_Match object at 0x0000000009199AB0>, <_sre.SRE_Match object at 0x0000000009199CA8>, <_sre.SRE_Match object at 0x0000000009199F48>, <_sre.SRE_Match object at 0x0000000069140378>, <_sre.SRE_Match object at 0x00000000691400D8>, <_sre.SRE_Match object at 0x0000000069140030>], [<_sre.SRE_Match object at 0x0000000009199960>, <_sre.SRE_Match object at 0x0000000009199C00>, <_sre.SRE_Match object at 0x0000000009199EA0>, <_sre.SRE_Match object at 0x0000000009199768>, <_sre.SRE_Match object at 0x0000000009199A08>, <_sre.SRE_Match object at 0x0000000009199DF8>, None, <_sre.SRE_Match object at 0x00000000691402D0>, <_sre.SRE_Match object at 0x0000000069140228>, <_sre.SRE_Match object at 0x0000000069140180>])\n"
     ]
    }
   ],
   "source": [
    "fromRegex = re.compile(r'From:\\s(\\w)+(\\.)?(\\w)*@(\\w)+.com')\n",
    "toRegex = re.compile(r'To:\\s(\\w)+(\\.)?(\\w)*@(\\w)+.com')\n",
    "from_list = []\n",
    "to_list = []\n",
    "for i in range(0,10):\n",
    "    m_f = fromRegex.search(emails['message'][i])\n",
    "    m_e = toRegex.search(emails['message'][i])\n",
    "    from_list.append(m_f)\n",
    "    to_list.append(m_e)    \n",
    "#    if m_f:\n",
    "#        print(m_f.group())\n",
    "#    if m_e:\n",
    "#        print(m_e.group())    \n",
    "print (from_list, to_list)"
   ]
  },
  {
   "cell_type": "code",
   "execution_count": null,
   "metadata": {},
   "outputs": [],
   "source": []
  },
  {
   "cell_type": "code",
   "execution_count": 26,
   "metadata": {},
   "outputs": [
    {
     "data": {
      "text/plain": [
       "517401"
      ]
     },
     "execution_count": 26,
     "metadata": {},
     "output_type": "execute_result"
    }
   ],
   "source": [
    "len(emails)"
   ]
  },
  {
   "cell_type": "code",
   "execution_count": 28,
   "metadata": {},
   "outputs": [],
   "source": [
    "from_set = set()\n",
    "for i in range(len(emails)):\n",
    "    mf = fromRegex.search(emails['message'][i])\n",
    "    if mf:\n",
    "        if mf.group() not in from_set:\n",
    "            from_set.add(mf.group())\n",
    "to_set = set()\n",
    "for i in range(len(emails)):\n",
    "    me = toRegex.search(emails['message'][i])\n",
    "    if me:\n",
    "        if me.group() not in to_set:\n",
    "            to_set.add(me.group())"
   ]
  },
  {
   "cell_type": "markdown",
   "metadata": {},
   "source": [
    "Number of unique in from and to sets."
   ]
  },
  {
   "cell_type": "code",
   "execution_count": 29,
   "metadata": {},
   "outputs": [
    {
     "name": "stdout",
     "output_type": "stream",
     "text": [
      "('From emails:', 14452)\n",
      "('To emails:', 15354)\n"
     ]
    }
   ],
   "source": [
    "print(\"From emails:\", len(from_set))\n",
    "print(\"To emails:\", len(to_set))"
   ]
  },
  {
   "cell_type": "code",
   "execution_count": 30,
   "metadata": {},
   "outputs": [
    {
     "name": "stdout",
     "output_type": "stream",
     "text": [
      "29806\n"
     ]
    }
   ],
   "source": [
    "email_set = from_set.union(to_set)\n",
    "print(len(email_set))"
   ]
  }
 ],
 "metadata": {
  "kernelspec": {
   "display_name": "Python 2",
   "language": "python",
   "name": "python2"
  },
  "language_info": {
   "codemirror_mode": {
    "name": "ipython",
    "version": 2
   },
   "file_extension": ".py",
   "mimetype": "text/x-python",
   "name": "python",
   "nbconvert_exporter": "python",
   "pygments_lexer": "ipython2",
   "version": "2.7.16"
  }
 },
 "nbformat": 4,
 "nbformat_minor": 2
}
