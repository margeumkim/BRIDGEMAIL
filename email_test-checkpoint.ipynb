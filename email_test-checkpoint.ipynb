{
 "cells": [
  {
   "cell_type": "markdown",
   "metadata": {},
   "source": [
    "# E-Shell: Write emails faster and better    \n",
    "**Margeum Kim**\n",
    "\n",
    "## Project description\n",
    "The purpose of this project is to create a contextualized suggestion system for work-related emails. Employees spend so much time on emails. ESL employees even more. Their concerns range from **X, Y, and Z.** With this recommender, I aim to provide a tool for them **to do X, Y, and Z.**\n",
    "\n",
    "## Import and load the data"
   ]
  }
 ],
 "metadata": {
  "kernelspec": {
   "display_name": "Python 2",
   "language": "python",
   "name": "python2"
  },
  "language_info": {
   "codemirror_mode": {
    "name": "ipython",
    "version": 2
   },
   "file_extension": ".py",
   "mimetype": "text/x-python",
   "name": "python",
   "nbconvert_exporter": "python",
   "pygments_lexer": "ipython2",
   "version": "2.7.16"
  }
 },
 "nbformat": 4,
 "nbformat_minor": 2
}
